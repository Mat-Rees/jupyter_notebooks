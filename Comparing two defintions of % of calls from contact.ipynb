{
 "cells": [
  {
   "cell_type": "markdown",
   "metadata": {},
   "source": [
    "Defintion A (currently used)\n",
    "Percent of Total Calls from Contacts...\n",
    "Count of Calls from Address Book Contacts / Count of total calls\n",
    "\n",
    "Defintion B\n",
    "For the Average User, percent of calls for an address book contact...\n",
    "\n",
    "\n",
    "\n",
    "\n",
    "import pandas as pd\n",
    "\n",
    "data = pd.read_csv('userexport.csv')\n",
    "print(data)"
   ]
  },
  {
   "cell_type": "code",
   "execution_count": 19,
   "metadata": {},
   "outputs": [
    {
     "name": "stdout",
     "output_type": "stream",
     "text": [
      "          user_id         id country  sum  sum.1\n",
      "0           35604      35604      GB   63     63\n",
      "1           39600      39600      GB    6     19\n",
      "2           43902      43902      GB    6     14\n",
      "3           77004      77004      GB   63     65\n",
      "4           97600      97600      GB    5      6\n",
      "5          138703     138703      GB   12     15\n",
      "6          155803     155803      GB    5     11\n",
      "7          169602     169602      GB   20     20\n",
      "8          208603     208603      GB   19     19\n",
      "9          248303     248303      GB    8     10\n",
      "10         267402     267402      GB    4      6\n",
      "11         267904     267904      GB    9     20\n",
      "12         279204     279204      GB    4      6\n",
      "13         292002     292002      GB   25     27\n",
      "14         307203     307203      GB    7     10\n",
      "15         389401     389401      GB    9     12\n",
      "16         390802     390802      GB    4      5\n",
      "17         457004     457004      GB    1      1\n",
      "18         463602     463602      GB   13     15\n",
      "19         463802     463802      GB   26     29\n",
      "20         505302     505302      GB   64     65\n",
      "21         519401     519401      GB    1      2\n",
      "22         536104     536104      GB    2      9\n",
      "23         541304     541304      GB    6      8\n",
      "24         572304     572304      GB   13     15\n",
      "25         579901     579901      GB   15     20\n",
      "26         617603     617603      GB   14     25\n",
      "27         630600     630600      GB   29     31\n",
      "28         638700     638700      GB   24     25\n",
      "29         663804     663804      GB   58    108\n",
      "...           ...        ...     ...  ...    ...\n",
      "170134  196053901  196053901      GB    1      1\n",
      "170135  196054400  196054400      GB    2      3\n",
      "170136  196055101  196055101      GB    3      4\n",
      "170137  196056802  196056802      GB    0      0\n",
      "170138  196059804  196059804      GB    0      0\n",
      "170139  196060102  196060102      GB    0      0\n",
      "170140  196060501  196060501      GB    0      0\n",
      "170141  196063903  196063903      GB    1      1\n",
      "170142  196064602  196064602      GB    5      5\n",
      "170143  196065601  196065601      GB    2      2\n",
      "170144  196066800  196066800      GB    8     12\n",
      "170145  196067703  196067703      GB    0      0\n",
      "170146  196070100  196070100      GB    2      2\n",
      "170147  196070101  196070101      GB    0      1\n",
      "170148  196075202  196075202      GB    0      0\n",
      "170149  196075904  196075904      GB    1      1\n",
      "170150  196078704  196078704      GB    1      2\n",
      "170151  196084804  196084804      GB    0      0\n",
      "170152  196094200  196094200      GB    3      3\n",
      "170153  196096300  196096300      GB    5      5\n",
      "170154  196102800  196102800      GB    1      1\n",
      "170155  196102902  196102902      GB    6     10\n",
      "170156  196105503  196105503      GB    0      0\n",
      "170157  196107200  196107200      GB    1      2\n",
      "170158  196109002  196109002      GB    1      1\n",
      "170159  196119404  196119404      GB    0      1\n",
      "170160  196125301  196125301      GB    0      1\n",
      "170161  196215302  196215302      GB   13     13\n",
      "170162  196295601  196295601      GB    0      0\n",
      "170163  196416402  196416402      GB    8     13\n",
      "\n",
      "[170164 rows x 5 columns]\n"
     ]
    }
   ],
   "source": [
    "import pandas as pd\n",
    "data = pd.read_csv('userexport.csv') \n",
    "print(data)"
   ]
  },
  {
   "cell_type": "code",
   "execution_count": 20,
   "metadata": {},
   "outputs": [
    {
     "name": "stdout",
     "output_type": "stream",
     "text": [
      "2351023\n",
      "3121620\n",
      "0.7531419583421428\n"
     ]
    }
   ],
   "source": [
    "\n",
    "\n",
    "# Calculate percentage of incoming calls that are from a contact\n",
    "sum_of_ic_contact = data['sum'].sum()\n",
    "sum_of_incoming = data['sum.1'].sum()\n",
    "print(sum_of_ic_contact)\n",
    "print(sum_of_incoming)\n",
    "print(sum_of_ic_contact / sum_of_incoming)\n",
    "\n"
   ]
  },
  {
   "cell_type": "code",
   "execution_count": 5,
   "metadata": {},
   "outputs": [
    {
     "name": "stdout",
     "output_type": "stream",
     "text": [
      "          user_id         id country  sum  sum.1  percent_for_user\n",
      "0           35604      35604      GB   63     63          1.000000\n",
      "1           39600      39600      GB    6     19          0.315789\n",
      "2           43902      43902      GB    6     14          0.428571\n",
      "3           77004      77004      GB   63     65          0.969231\n",
      "4           97600      97600      GB    5      6          0.833333\n",
      "5          138703     138703      GB   12     15          0.800000\n",
      "6          155803     155803      GB    5     11          0.454545\n",
      "7          169602     169602      GB   20     20          1.000000\n",
      "8          208603     208603      GB   19     19          1.000000\n",
      "9          248303     248303      GB    8     10          0.800000\n",
      "10         267402     267402      GB    4      6          0.666667\n",
      "11         267904     267904      GB    9     20          0.450000\n",
      "12         279204     279204      GB    4      6          0.666667\n",
      "13         292002     292002      GB   25     27          0.925926\n",
      "14         307203     307203      GB    7     10          0.700000\n",
      "15         389401     389401      GB    9     12          0.750000\n",
      "16         390802     390802      GB    4      5          0.800000\n",
      "17         457004     457004      GB    1      1          1.000000\n",
      "18         463602     463602      GB   13     15          0.866667\n",
      "19         463802     463802      GB   26     29          0.896552\n",
      "20         505302     505302      GB   64     65          0.984615\n",
      "21         519401     519401      GB    1      2          0.500000\n",
      "22         536104     536104      GB    2      9          0.222222\n",
      "23         541304     541304      GB    6      8          0.750000\n",
      "24         572304     572304      GB   13     15          0.866667\n",
      "25         579901     579901      GB   15     20          0.750000\n",
      "26         617603     617603      GB   14     25          0.560000\n",
      "27         630600     630600      GB   29     31          0.935484\n",
      "28         638700     638700      GB   24     25          0.960000\n",
      "29         663804     663804      GB   58    108          0.537037\n",
      "...           ...        ...     ...  ...    ...               ...\n",
      "170134  196053901  196053901      GB    1      1          1.000000\n",
      "170135  196054400  196054400      GB    2      3          0.666667\n",
      "170136  196055101  196055101      GB    3      4          0.750000\n",
      "170137  196056802  196056802      GB    0      0               NaN\n",
      "170138  196059804  196059804      GB    0      0               NaN\n",
      "170139  196060102  196060102      GB    0      0               NaN\n",
      "170140  196060501  196060501      GB    0      0               NaN\n",
      "170141  196063903  196063903      GB    1      1          1.000000\n",
      "170142  196064602  196064602      GB    5      5          1.000000\n",
      "170143  196065601  196065601      GB    2      2          1.000000\n",
      "170144  196066800  196066800      GB    8     12          0.666667\n",
      "170145  196067703  196067703      GB    0      0               NaN\n",
      "170146  196070100  196070100      GB    2      2          1.000000\n",
      "170147  196070101  196070101      GB    0      1          0.000000\n",
      "170148  196075202  196075202      GB    0      0               NaN\n",
      "170149  196075904  196075904      GB    1      1          1.000000\n",
      "170150  196078704  196078704      GB    1      2          0.500000\n",
      "170151  196084804  196084804      GB    0      0               NaN\n",
      "170152  196094200  196094200      GB    3      3          1.000000\n",
      "170153  196096300  196096300      GB    5      5          1.000000\n",
      "170154  196102800  196102800      GB    1      1          1.000000\n",
      "170155  196102902  196102902      GB    6     10          0.600000\n",
      "170156  196105503  196105503      GB    0      0               NaN\n",
      "170157  196107200  196107200      GB    1      2          0.500000\n",
      "170158  196109002  196109002      GB    1      1          1.000000\n",
      "170159  196119404  196119404      GB    0      1          0.000000\n",
      "170160  196125301  196125301      GB    0      1          0.000000\n",
      "170161  196215302  196215302      GB   13     13          1.000000\n",
      "170162  196295601  196295601      GB    0      0               NaN\n",
      "170163  196416402  196416402      GB    8     13          0.615385\n",
      "\n",
      "[170164 rows x 6 columns]\n"
     ]
    }
   ],
   "source": [
    "# Create a new column: percent for user is what percent of calls were contact calls on a per user basis\n",
    "data['percent_for_user'] = data['sum'] / data['sum.1']\n",
    "print(data)"
   ]
  },
  {
   "cell_type": "code",
   "execution_count": 17,
   "metadata": {},
   "outputs": [
    {
     "name": "stdout",
     "output_type": "stream",
     "text": [
      "count of valid datapoints per column:\n",
      "user_id             170164\n",
      "id                  170164\n",
      "country             170164\n",
      "sum                 170164\n",
      "sum.1               170164\n",
      "percent_for_user    160565\n",
      "dtype: int64\n",
      "Check that dataframe size is correct after removing records with 0 incoming calls:\n",
      "user_id             160565\n",
      "id                  160565\n",
      "country             160565\n",
      "sum                 160565\n",
      "sum.1               160565\n",
      "percent_for_user    160565\n",
      "dtype: int64\n",
      "Average % of calls matched for an user\n",
      "0.6140655000907793\n"
     ]
    }
   ],
   "source": [
    "print(\"count of valid datapoints per column:\")\n",
    "print(data.count(axis=0))\n",
    "\n",
    "data_nozero = data[data['percent_for_user'].notnull()]\n",
    "\n",
    "\n",
    "percent_matched_per_user_pov = data_nozero.mean()\n",
    "\n",
    "print(\"Check that dataframe size is correct after removing records with 0 incoming calls:\")\n",
    "print(data_nozero.count())\n",
    "\n",
    "print(\"Average % of calls matched for an user\")\n",
    "print(percent_matched_per_user_pov['percent_for_user'])\n"
   ]
  },
  {
   "cell_type": "code",
   "execution_count": null,
   "metadata": {},
   "outputs": [],
   "source": []
  }
 ],
 "metadata": {
  "kernelspec": {
   "display_name": "Python 3",
   "language": "python",
   "name": "python3"
  },
  "language_info": {
   "codemirror_mode": {
    "name": "ipython",
    "version": 3
   },
   "file_extension": ".py",
   "mimetype": "text/x-python",
   "name": "python",
   "nbconvert_exporter": "python",
   "pygments_lexer": "ipython3",
   "version": "3.6.5"
  }
 },
 "nbformat": 4,
 "nbformat_minor": 2
}
